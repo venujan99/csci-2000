{
 "cells": [
  {
   "cell_type": "code",
   "execution_count": 3,
   "metadata": {
    "collapsed": false
   },
   "outputs": [
    {
     "ename": "TypeError",
     "evalue": "pie() got an unexpected keyword argument 'countries'",
     "output_type": "error",
     "traceback": [
      "\u001b[1;31m---------------------------------------------------------------------------\u001b[0m",
      "\u001b[1;31mTypeError\u001b[0m                                 Traceback (most recent call last)",
      "\u001b[1;32m<ipython-input-3-3ce92417e132>\u001b[0m in \u001b[0;36m<module>\u001b[1;34m()\u001b[0m\n\u001b[0;32m     19\u001b[0m \u001b[1;31m# Plot\u001b[0m\u001b[1;33m\u001b[0m\u001b[1;33m\u001b[0m\u001b[0m\n\u001b[0;32m     20\u001b[0m pyp.pie(medals, explode=explode, countries=countries, colors=colors,\n\u001b[1;32m---> 21\u001b[1;33m         autopct='%1.1f%%', shadow=True, startangle=140)\n\u001b[0m\u001b[0;32m     22\u001b[0m \u001b[1;33m\u001b[0m\u001b[0m\n\u001b[0;32m     23\u001b[0m \u001b[0mpyp\u001b[0m\u001b[1;33m.\u001b[0m\u001b[0maxis\u001b[0m\u001b[1;33m(\u001b[0m\u001b[1;34m'equal'\u001b[0m\u001b[1;33m)\u001b[0m\u001b[1;33m\u001b[0m\u001b[0m\n",
      "\u001b[1;31mTypeError\u001b[0m: pie() got an unexpected keyword argument 'countries'"
     ]
    }
   ],
   "source": [
    "#Venujan Satchithanantham\n",
    "#10060099\n",
    "\n",
    "import numpy as np\n",
    "import matplotlib.pyplot as pyp\n",
    "\n",
    "pyp.title('2012 Olympic Gold Medals (100600999)')\n",
    "# Data to plot\n",
    "labels = 'USA', 'CHN', 'GBR', 'RUS', 'KOR', 'GER', 'FRA', 'ITAL', 'HUN', 'OTHER', 'AUS'\n",
    "medals = [46, 38, 29, 24, 13, 11, 11, 8, 8, 107, 7]\n",
    "colors = ['blue', 'yellow', 'magenta', 'cyan', 'red', 'purple', 'lightskyblue', 'green', 'yellowgreen', 'lightcoral', 'white']\n",
    "explode = (0, 0, 0, 0, 0, 0, 0, 0, 0, 0, 0)\n",
    "\n",
    "pyp.pie(medals, colors=colors, shadow=True)\n",
    "pyp.axis('equal')\n",
    "pyp.legend(labels, loc=(-0.05, 0.05), shadow=True)\n",
    "\n",
    " \n",
    "# Plot\n",
    "pyp.pie(medals, explode=explode, labels=labels, colors=colors,\n",
    "        autopct='%1.1f%%', shadow=True, startangle=140)\n",
    " \n",
    "pyp.axis('equal')\n",
    "pyp.show()\n"
   ]
  },
  {
   "cell_type": "code",
   "execution_count": null,
   "metadata": {
    "collapsed": true
   },
   "outputs": [],
   "source": []
  },
  {
   "cell_type": "code",
   "execution_count": null,
   "metadata": {
    "collapsed": true
   },
   "outputs": [],
   "source": []
  }
 ],
 "metadata": {
  "kernelspec": {
   "display_name": "Python 3",
   "language": "python",
   "name": "python3"
  },
  "language_info": {
   "codemirror_mode": {
    "name": "ipython",
    "version": 3
   },
   "file_extension": ".py",
   "mimetype": "text/x-python",
   "name": "python",
   "nbconvert_exporter": "python",
   "pygments_lexer": "ipython3",
   "version": "3.4.3"
  }
 },
 "nbformat": 4,
 "nbformat_minor": 0
}
