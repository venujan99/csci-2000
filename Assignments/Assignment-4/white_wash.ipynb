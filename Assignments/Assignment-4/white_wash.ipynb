{
 "cells": [
  {
   "cell_type": "code",
   "execution_count": 24,
   "metadata": {
    "collapsed": false
   },
   "outputs": [
    {
     "data": {
      "image/png": "[encoded data removed]",
      "text/plain": [
       "<matplotlib.figure.Figure at 0x7fba139fecf8>"
      ]
     },
     "metadata": {},
     "output_type": "display_data"
    },
    {
     "data": {
      "image/png": "[encoded data removed]",
      "text/plain": [
       "<matplotlib.figure.Figure at 0x7fba13641cf8>"
      ]
     },
     "metadata": {},
     "output_type": "display_data"
    }
   ],
   "source": [
    "#Name: Venujan Satchithanantham\n",
    "#Student ID: 100600999\n",
    "\n",
    "import numpy as np\n",
    "import matplotlib.pyplot as pyplt\n",
    "\n",
    "#C is color map matrix\n",
    "#defining function WhiteWash\n",
    "def WhiteWash(C):\n",
    "    white =  np.ones_like(C)\n",
    "    result = ((C + white))\n",
    "    return result\n",
    "\n",
    "#randomly selecting matrix size\n",
    "matrix_size = np.random.randint(1,3)\n",
    "\n",
    "#randoms variables that are 0 < 1\n",
    "color = np.random.rand(matrix_size,3)\n",
    "white_washed = WhiteWash(color)\n",
    "\n",
    "#plotting color maps\n",
    "plot = pyplt.imshow(color)\n",
    "pyplt.show(plot)\n",
    "whitewashplot = plt.imshow(white_washed)\n",
    "pyplt.show(whitewashplot)"
   ]
  },
  {
   "cell_type": "code",
   "execution_count": null,
   "metadata": {
    "collapsed": true
   },
   "outputs": [],
   "source": []
  },
  {
   "cell_type": "code",
   "execution_count": null,
   "metadata": {
    "collapsed": true
   },
   "outputs": [],
   "source": []
  }
 ],
 "metadata": {
  "kernelspec": {
   "display_name": "Python 3",
   "language": "python",
   "name": "python3"
  },
  "language_info": {
   "codemirror_mode": {
    "name": "ipython",
    "version": 3
   },
   "file_extension": ".py",
   "mimetype": "text/x-python",
   "name": "python",
   "nbconvert_exporter": "python",
   "pygments_lexer": "ipython3",
   "version": "3.4.3"
  }
 },
 "nbformat": 4,
 "nbformat_minor": 0
}
