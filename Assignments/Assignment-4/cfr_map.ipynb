{
 "cells": [
  {
   "cell_type": "code",
   "execution_count": 6,
   "metadata": {
    "collapsed": false
   },
   "outputs": [
    {
     "ename": "ValueError",
     "evalue": "could not convert string to float: '-112.99060\\nMeasles,53.54356,-113.49045,1\\nMeasles,43.32552,-79.79903,6\\nMeasles,43.25002,-79.86609,1\\nMeasles,53.76086,-98.81388,7\\nMeasles,49.78640,-97.18144,2\\nWhooping Cough,45.50867,-73.55399,106\\nWhooping Cough,46.56532,-66.46192,548\\nMeasles,46.51071,-63.41681,2\\nWhooping Cough,46.74719,-64.20199,24\\nMeasles,43.32552,-79.79903,6\\nMeasles,51.56341,-88.94531,1\\nMeasles,43.67664,-79.78484,1\\nMeasles,44.47165,-79.82967,1\\nMeasles,43.02192, -79.89096 ,19\\nMumps,51.253775,-85.323214,11\\nMeasles,46.411572,-75.698194,6\\nMeasles,47.411572,-75.698194,1\\nMeasles,45.26090,-75.69719,4\\nWhooping Cough,45.42593, -75.68586 ,7\\nMeasles,52.939916,-73.549136,36\\nMeasles,53.939916,-73.549136,2\\nMeasles,52.93992,-73.54914,776\\nMeasles,46.64364, -72.14061 ,150\\nMeasles,52.939916,-106.450864,6\\nMeasles,53.70971,-106.43555,1\\nMeasles,53.4982,-106.44,1\\nMeasles,52.93992,-106.45086,6\\nMeasles,52.13340,-106.68324,1\\nMeasles,43.65323,-79.38318,1\\nMeasles,43.64975,-79.39898,10\\nMeasles,45.64477,-65.87402,3\\nMeasles,53.72667,-127.64762,8\\nMeasles,49.19000, -122.80000 ,11\\nMeasles,45.47654,-75.70127,1\\nMeasles,43.13264,-80.73906,2\\nMeasles,42.98695,-81.24318,2\\nMeasles,49.26667, -122.96667 ,4\\nMumps,51.9399642,-73.549136,15\\nMumps,43.54488,-80.25010,2\\nMumps,49.261226,-123.113927,90\\nMumps,50.116168,-122.959423,15\\nWhooping Cough,64.28233,-135.00001,5\\nOther,44.56903,-80.94056,1\\nMumps,43.54480,-80.24817,14\\nWhooping Cough,44.13130,-81.15069,239\\nWhooping Cough,62.4506192,-114.415307,1\\nWhooping Cough,46.5653163,-66.4619164,47\\nWhooping Cough,53.7608608,-98.8138763,51\\nMeasles,6.611111,20.939444,31\\nPolio,7.1336,20.99487,4\\nMeasles,4.3617,18.55597,8\\nMeasles,15.454166,19.17513,5832\\nMeasles,13.60328,19.09424,8650\\nMeasles,11.78133,21.79688,4\\nMeasles,12.10480,15.04451,2511\\nMeasles,12.45773,16.72346,193\\nOther,14.99999,18.732207,507\\nPolio,15.45417,18.73221,15\\nPolio,12.55456,16.61133,5\\nWhooping Cough,-33.04565,-71.62036,643\\nMeasles,-35.675147,-71.542969,6\\nMeasles,-33.44889,-70.66927,9\\nPolio,35.38905,85.60547,9\\nMeasles,35.85121,104.51569,131'",
     "output_type": "error",
     "traceback": [
      "\u001b[1;31m---------------------------------------------------------------------------\u001b[0m",
      "\u001b[1;31mValueError\u001b[0m                                Traceback (most recent call last)",
      "\u001b[1;32m<ipython-input-6-93d7e78e10cb>\u001b[0m in \u001b[0;36m<module>\u001b[1;34m()\u001b[0m\n\u001b[0;32m     18\u001b[0m     \u001b[0mnp\u001b[0m\u001b[1;33m.\u001b[0m\u001b[0mcat\u001b[0m\u001b[1;33m.\u001b[0m\u001b[0mappend\u001b[0m\u001b[1;33m(\u001b[0m\u001b[0mrow\u001b[0m\u001b[1;33m[\u001b[0m\u001b[1;34m'Category'\u001b[0m\u001b[1;33m]\u001b[0m\u001b[1;33m)\u001b[0m\u001b[1;33m\u001b[0m\u001b[0m\n\u001b[0;32m     19\u001b[0m     \u001b[0mnp\u001b[0m\u001b[1;33m.\u001b[0m\u001b[0mlat\u001b[0m\u001b[1;33m.\u001b[0m\u001b[0mappend\u001b[0m\u001b[1;33m(\u001b[0m\u001b[1;33m(\u001b[0m\u001b[0mfloat\u001b[0m\u001b[1;33m)\u001b[0m\u001b[1;33m(\u001b[0m\u001b[0mrow\u001b[0m\u001b[1;33m[\u001b[0m\u001b[1;34m'Lat'\u001b[0m\u001b[1;33m]\u001b[0m\u001b[1;33m)\u001b[0m\u001b[1;33m)\u001b[0m\u001b[1;33m\u001b[0m\u001b[0m\n\u001b[1;32m---> 20\u001b[1;33m     \u001b[0mnp\u001b[0m\u001b[1;33m.\u001b[0m\u001b[0mlong\u001b[0m\u001b[1;33m.\u001b[0m\u001b[0mappend\u001b[0m\u001b[1;33m(\u001b[0m\u001b[1;33m(\u001b[0m\u001b[0mfloat\u001b[0m\u001b[1;33m)\u001b[0m\u001b[1;33m(\u001b[0m\u001b[0mrow\u001b[0m\u001b[1;33m[\u001b[0m\u001b[1;34m'Long'\u001b[0m\u001b[1;33m]\u001b[0m\u001b[1;33m)\u001b[0m\u001b[1;33m)\u001b[0m\u001b[1;33m\u001b[0m\u001b[0m\n\u001b[0m\u001b[0;32m     21\u001b[0m     \u001b[0mnp\u001b[0m\u001b[1;33m.\u001b[0m\u001b[0mcases\u001b[0m\u001b[1;33m.\u001b[0m\u001b[0mappend\u001b[0m\u001b[1;33m(\u001b[0m\u001b[1;33m(\u001b[0m\u001b[0mfloat\u001b[0m\u001b[1;33m)\u001b[0m\u001b[1;33m(\u001b[0m\u001b[0mrow\u001b[0m\u001b[1;33m[\u001b[0m\u001b[1;34m'Cases'\u001b[0m\u001b[1;33m]\u001b[0m\u001b[1;33m)\u001b[0m\u001b[1;33m)\u001b[0m\u001b[1;33m\u001b[0m\u001b[0m\n\u001b[0;32m     22\u001b[0m \u001b[1;33m\u001b[0m\u001b[0m\n",
      "\u001b[1;31mValueError\u001b[0m: could not convert string to float: '-112.99060\\nMeasles,53.54356,-113.49045,1\\nMeasles,43.32552,-79.79903,6\\nMeasles,43.25002,-79.86609,1\\nMeasles,53.76086,-98.81388,7\\nMeasles,49.78640,-97.18144,2\\nWhooping Cough,45.50867,-73.55399,106\\nWhooping Cough,46.56532,-66.46192,548\\nMeasles,46.51071,-63.41681,2\\nWhooping Cough,46.74719,-64.20199,24\\nMeasles,43.32552,-79.79903,6\\nMeasles,51.56341,-88.94531,1\\nMeasles,43.67664,-79.78484,1\\nMeasles,44.47165,-79.82967,1\\nMeasles,43.02192, -79.89096 ,19\\nMumps,51.253775,-85.323214,11\\nMeasles,46.411572,-75.698194,6\\nMeasles,47.411572,-75.698194,1\\nMeasles,45.26090,-75.69719,4\\nWhooping Cough,45.42593, -75.68586 ,7\\nMeasles,52.939916,-73.549136,36\\nMeasles,53.939916,-73.549136,2\\nMeasles,52.93992,-73.54914,776\\nMeasles,46.64364, -72.14061 ,150\\nMeasles,52.939916,-106.450864,6\\nMeasles,53.70971,-106.43555,1\\nMeasles,53.4982,-106.44,1\\nMeasles,52.93992,-106.45086,6\\nMeasles,52.13340,-106.68324,1\\nMeasles,43.65323,-79.38318,1\\nMeasles,43.64975,-79.39898,10\\nMeasles,45.64477,-65.87402,3\\nMeasles,53.72667,-127.64762,8\\nMeasles,49.19000, -122.80000 ,11\\nMeasles,45.47654,-75.70127,1\\nMeasles,43.13264,-80.73906,2\\nMeasles,42.98695,-81.24318,2\\nMeasles,49.26667, -122.96667 ,4\\nMumps,51.9399642,-73.549136,15\\nMumps,43.54488,-80.25010,2\\nMumps,49.261226,-123.113927,90\\nMumps,50.116168,-122.959423,15\\nWhooping Cough,64.28233,-135.00001,5\\nOther,44.56903,-80.94056,1\\nMumps,43.54480,-80.24817,14\\nWhooping Cough,44.13130,-81.15069,239\\nWhooping Cough,62.4506192,-114.415307,1\\nWhooping Cough,46.5653163,-66.4619164,47\\nWhooping Cough,53.7608608,-98.8138763,51\\nMeasles,6.611111,20.939444,31\\nPolio,7.1336,20.99487,4\\nMeasles,4.3617,18.55597,8\\nMeasles,15.454166,19.17513,5832\\nMeasles,13.60328,19.09424,8650\\nMeasles,11.78133,21.79688,4\\nMeasles,12.10480,15.04451,2511\\nMeasles,12.45773,16.72346,193\\nOther,14.99999,18.732207,507\\nPolio,15.45417,18.73221,15\\nPolio,12.55456,16.61133,5\\nWhooping Cough,-33.04565,-71.62036,643\\nMeasles,-35.675147,-71.542969,6\\nMeasles,-33.44889,-70.66927,9\\nPolio,35.38905,85.60547,9\\nMeasles,35.85121,104.51569,131'"
     ]
    }
   ],
   "source": [
    "#Name: Venujan Satchithanantham\n",
    "#Student ID: 100600999\n",
    "\n",
    "\n",
    "import numpy as np\n",
    "import matplotlib.pyplot as plt\n",
    "from mpl_toolkits.basemap import Basemap\n",
    "import csv\n",
    "\n",
    "#Getting Data from abridged CSV file\n",
    "np.cat = []\n",
    "np.lat = []\n",
    "np.long = []\n",
    "np.cases = []\n",
    "reader = open('Source_data_for_CFR_vaccine_map_abridged.csv', 'r')\n",
    "data = csv.DictReader(reader)\n",
    "for row in data:\n",
    "    np.cat.append(row['Category'])\n",
    "    np.lat.append((float)(row['Lat']))\n",
    "    np.long.append((float)(row['Long']))\n",
    "    np.cases.append((float)(row['Cases']))\n",
    "\n",
    "fig = plt.figure(figsize=(14,10))\n",
    "ax = plt.subplot(1,1,1)\n",
    "earth = Basemap(projection='mill')\n",
    "earth.drawcoastlines(color='0.50', linewidth=0.25)\n",
    "earth.fillcontinents(color='0.95')\n",
    "\n",
    "##Plot for Measles Map\n",
    "for i in range (len(np.cat)):\n",
    "    if (np.cat[i] == 'Measles'):\n",
    "        x, y = earth(np.long[i], np.lat[i])\n",
    "\n",
    "        if (np.cases[i] > 0 and np.cases[i] < 2000):\n",
    "            earth.plot(x, y, 'ro',markersize=3,alpha=.5)    \n",
    "        else: \n",
    "            ##max case 134042\n",
    "            earth.plot(x, y, 'ro',markersize=((np.cases[i])/13500)*9,alpha=.5)\n",
    "\n",
    "    \n",
    "plt.title(\"Measles Outbreaks (100600999)\")\n",
    "plt.show()\n",
    "\n",
    "fig = plt.figure(figsize=(14,10))\n",
    "ax = plt.subplot(1,1,1)\n",
    "earth = Basemap(projection='mill')\n",
    "earth.drawcoastlines(color='0.50', linewidth=0.25)\n",
    "earth.fillcontinents(color='0.95')\n",
    "\n",
    "for i in range (len(np.cat)):\n",
    "    if (np.cat[i] == 'Rubella'):\n",
    "        x, y = earth(np.long[i], np.lat[i])\n",
    "        if (np.cases[i] > 0 and np.cases[i] < 500):\n",
    "            earth.plot(x, y, 'mo',markersize=4,alpha=.5)    \n",
    "        else: \n",
    "            earth.plot(x, y, 'mo',markersize=((np.cases[i])/4000)*5,alpha=.5)\n",
    "    \n",
    "plt.title(\"Rubella Outbreaks (100600999)\")\n",
    "plt.show"
   ]
  },
  {
   "cell_type": "code",
   "execution_count": null,
   "metadata": {
    "collapsed": true
   },
   "outputs": [],
   "source": []
  },
  {
   "cell_type": "code",
   "execution_count": null,
   "metadata": {
    "collapsed": true
   },
   "outputs": [],
   "source": []
  }
 ],
 "metadata": {
  "kernelspec": {
   "display_name": "Python 3",
   "language": "python",
   "name": "python3"
  },
  "language_info": {
   "codemirror_mode": {
    "name": "ipython",
    "version": 3
   },
   "file_extension": ".py",
   "mimetype": "text/x-python",
   "name": "python",
   "nbconvert_exporter": "python",
   "pygments_lexer": "ipython3",
   "version": "3.4.3"
  }
 },
 "nbformat": 4,
 "nbformat_minor": 0
}
